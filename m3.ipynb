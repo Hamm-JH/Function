{
 "cells": [
  {
   "cell_type": "code",
   "execution_count": 1,
   "metadata": {},
   "outputs": [],
   "source": [
    "# 학생의 성적을 관리하는 프로그램을 작성\n",
    "score1 = 100\n",
    "score2 = 99\n",
    "score3 = 90\n",
    "score4 = 80\n",
    "#...\n",
    "score10000 = 50"
   ]
  },
  {
   "attachments": {},
   "cell_type": "markdown",
   "metadata": {},
   "source": [
    "변수를 하나하나 쓰기 불편함"
   ]
  },
  {
   "cell_type": "code",
   "execution_count": null,
   "metadata": {},
   "outputs": [],
   "source": [
    "# 배열을 사용하여 학생의 성적 관리하는 프로그램을 작성\n",
    "score = []\n",
    "for i in range(file):\n",
    "    score.append(file[i])"
   ]
  },
  {
   "attachments": {},
   "cell_type": "markdown",
   "metadata": {},
   "source": [
    "Mike, 영어, 수학, 과학, 사회(점수)\n",
    "학생 목록\n",
    "\n",
    "학생 이름[10000]\n",
    "영어[10000]\n",
    "...\n",
    "\n",
    "내가 처리하고자 하는 대상의 정보는 각 배열에 따로따로 존재하네?"
   ]
  },
  {
   "attachments": {},
   "cell_type": "markdown",
   "metadata": {},
   "source": [
    "배열만으로 처리하기 또 불편함"
   ]
  },
  {
   "attachments": {},
   "cell_type": "markdown",
   "metadata": {},
   "source": [
    "3 구조체 기반 프로그래밍"
   ]
  },
  {
   "cell_type": "code",
   "execution_count": null,
   "metadata": {},
   "outputs": [],
   "source": [
    "from dataclasses import dataclass\n",
    "\n",
    "# 한 학생의 정보를 저장하는 구조체\n",
    "@dataclass\n",
    "class student:\n",
    "    id: int = 0\n",
    "    name: str = ''\n",
    "    kor: int = 0\n",
    "    eng: int = 0\n",
    "    math: int = 0\n",
    "\n",
    "scores = []\n",
    "for i in range(file):\n",
    "    template = student()\n",
    "\n",
    "    template.id = file.id\n",
    "    template.name = file.name\n",
    "    template.kor = file.kor\n",
    "    template.eng = file.eng\n",
    "    template.math = file.math\n",
    "\n",
    "    scores.append(template)"
   ]
  },
  {
   "attachments": {},
   "cell_type": "markdown",
   "metadata": {},
   "source": [
    "수만줄 하던 코드가 하드웨어 칩셋의 통일로 개발자들이 개발에 온전히 집중하게 된다.\n",
    "\n",
    "하지만, 이는 이전의 수만 줄의 코드를 목표로 굴러가던 업계의 업무능력에 부하를 주게 된다.\n",
    "- 코드의 수량이 이전에 비해 수십배 불어났기 때문이다."
   ]
  },
  {
   "attachments": {},
   "cell_type": "markdown",
   "metadata": {},
   "source": [
    "이는 기존의 프로그래밍 업무 방식으로는 해결되지 않는 업무 부하를 가져다 준다.\n",
    "대표적으로\n",
    "- 1 프로그래밍 작업 기록을 수기로 하던 시절에, 수만줄의 코드에서 나오던 서류 또한 수십배 불어났다.\n",
    "- 2 프로그래밍 요구사항 변경시 한 가지 기능을 변경할때 코드 변경에 문제가 없는지 확인해야 할 코드간 연관관계 확인에 시간이 배로 불어났다."
   ]
  },
  {
   "attachments": {},
   "cell_type": "markdown",
   "metadata": {},
   "source": [
    "코드 레벨에서 절차지향언어의 문제가 커짐에 따라 새로운 문제 해결방식이 필요해졌다.\n",
    "- 이전에는 성능의 문제때문에 메인 레벨에서 다루어지지 않았던 객체지향 방식의 개념이 떠오르게 되었다."
   ]
  },
  {
   "attachments": {},
   "cell_type": "markdown",
   "metadata": {},
   "source": [
    "다시 한번 변수와 함수를 돌아보자.\n",
    "- 변수는 프로그램을 해결하기 위한 정보를 뜻한다.\n",
    "- 함수는 특정한 역할을 수행하기 위한 기능의 역할을 수행합니다."
   ]
  },
  {
   "cell_type": "markdown",
   "metadata": {},
   "source": [
    "기존의 절차지향 언어는 변수와 함수가 분리되어 있었다.\n",
    "- 변수 -> 배열 -> 구조체의 형태로 발전했어도 변수만을 위한 함수를 지정할 수 없다.\n",
    "- 특정 변수만을 위한 함수인지 구분할 기준이 없었음.\n",
    "- 이를 해결하기 위해 변수와 함수를 한 영역안에 모아둔 객체지향 언어가 주류로 올라오기 시작한다."
   ]
  },
  {
   "cell_type": "code",
   "execution_count": null,
   "metadata": {},
   "outputs": [],
   "source": [
    "class HelloObject:\n",
    "    def __init__(self) -> None:\n",
    "        self.val1 = 1\n",
    "        self.val2 = 2\n",
    "    \n",
    "\n",
    "    def Run():\n",
    "        return self.val1 + self.val2\n",
    "        "
   ]
  }
 ],
 "metadata": {
  "kernelspec": {
   "display_name": "base",
   "language": "python",
   "name": "python3"
  },
  "language_info": {
   "codemirror_mode": {
    "name": "ipython",
    "version": 3
   },
   "file_extension": ".py",
   "mimetype": "text/x-python",
   "name": "python",
   "nbconvert_exporter": "python",
   "pygments_lexer": "ipython3",
   "version": "3.9.15"
  },
  "orig_nbformat": 4,
  "vscode": {
   "interpreter": {
    "hash": "1bacc43f3a5794ff21941cbe3bd67ad18cddb0ff963b4f1013ddec33c94b376d"
   }
  }
 },
 "nbformat": 4,
 "nbformat_minor": 2
}
