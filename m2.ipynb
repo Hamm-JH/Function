{
 "cells": [
  {
   "cell_type": "code",
   "execution_count": 1,
   "metadata": {},
   "outputs": [],
   "source": [
    "import matplotlib.pyplot as plt\n",
    "import numpy as np"
   ]
  },
  {
   "attachments": {},
   "cell_type": "markdown",
   "metadata": {},
   "source": [
    "앞서 생긴 문제는 클라이언트의 요청에 따라 개발자가 변경해줘야 코드의 영역이\n",
    "\n",
    "변수의 값까지 영향을 미친다는 점이다."
   ]
  },
  {
   "cell_type": "code",
   "execution_count": 3,
   "metadata": {},
   "outputs": [],
   "source": [
    "# 입력 데이터 부분의 함수화\n",
    "def lineData():\n",
    "    x = [1,2,3,4,5,6,7]\n",
    "    y = [1,2,3,4,5,6,7]\n",
    "\n",
    "    return x, y"
   ]
  },
  {
   "cell_type": "code",
   "execution_count": 8,
   "metadata": {},
   "outputs": [],
   "source": [
    "# 2 입력 데이터 부분의 파라미터를 포함한 함수화\n",
    "# 시작값과 끝값이 존재하는 입력 데이터가 필요하다.\n",
    "def lineData2(start, end):\n",
    "    x = []\n",
    "    y = []\n",
    "    for i in range(start, end+1):\n",
    "        x.append(i)\n",
    "        y.append(i)\n",
    "\n",
    "    return x,y"
   ]
  },
  {
   "cell_type": "code",
   "execution_count": 12,
   "metadata": {},
   "outputs": [],
   "source": [
    "# 3 넘파이로 성능개선\n",
    "def lineData3(start, end):\n",
    "    x = np.arange(start, end+1)\n",
    "    y = x\n",
    "\n",
    "    return x, y"
   ]
  },
  {
   "cell_type": "code",
   "execution_count": 16,
   "metadata": {},
   "outputs": [],
   "source": [
    "# 3 추가 파라미터 할당\n",
    "def lineData4(start, end, interval=1):\n",
    "    x = np.arange(start, end+1, interval)\n",
    "    y = x\n",
    "\n",
    "    return x, y"
   ]
  },
  {
   "cell_type": "code",
   "execution_count": 19,
   "metadata": {},
   "outputs": [],
   "source": [
    "# 5 곡선 데이터 생성\n",
    "# x값 변화 없음\n",
    "# y값은 바뀌어야 함 ?\n",
    "# 2차 곡선?\n",
    "def customData5(start, end, interval=1):\n",
    "    x = np.arange(start, end+1, interval)\n",
    "    y = x**2\n",
    "\n",
    "    return x, y"
   ]
  },
  {
   "cell_type": "code",
   "execution_count": 22,
   "metadata": {},
   "outputs": [],
   "source": [
    "# 6-1 차수를 할당하는 함수\n",
    "def ApplyCoefficient(x, Coefficient):\n",
    "    y = 0\n",
    "\n",
    "    for idx, val in enumerate(Coefficient):\n",
    "        if idx == 0:    # 상수항 인덱스인 경우\n",
    "            y += val\n",
    "        else:\n",
    "            y += val * x**idx\n",
    "\n",
    "    return y"
   ]
  },
  {
   "cell_type": "code",
   "execution_count": 23,
   "metadata": {},
   "outputs": [],
   "source": [
    "# 6 n차 곡선들에 대응할 수 있는 그래프 만들어줘\n",
    "# 이걸 어떻게 만들지? -> 우리의 문제(프로그래머)\n",
    "# ★ 의미 부여\n",
    "# y절편    x^0\n",
    "# 1차 계수 x^1\n",
    "# 2차 계수 x^2\n",
    "# 상수항 :: x\n",
    "# 계수?\n",
    "def customData6(start, end, interval=1, Coefficient=(0, 1)):\n",
    "    x = np.arange(start, end+1, interval)\n",
    "    y = ApplyCoefficient(x, Coefficient)\n",
    "\n",
    "    return x, y"
   ]
  },
  {
   "cell_type": "code",
   "execution_count": 4,
   "metadata": {},
   "outputs": [],
   "source": [
    "def Draw(x, y):\n",
    "    plt.plot(x, y)\n",
    "    plt.show()"
   ]
  },
  {
   "cell_type": "code",
   "execution_count": 31,
   "metadata": {},
   "outputs": [
    {
     "data": {
      "image/png": "[encoded data removed]",
      "text/plain": [
       "<Figure size 640x480 with 1 Axes>"
      ]
     },
     "metadata": {},
     "output_type": "display_data"
    }
   ],
   "source": [
    "x, y = customData6(-1000, 1000, 0.5, (0, 0, -1, -1, -1))\n",
    "\n",
    "Draw(x, y)"
   ]
  },
  {
   "cell_type": "code",
   "execution_count": null,
   "metadata": {},
   "outputs": [],
   "source": [
    "x, y = lineData4(0, 10000000, 0.5)\n",
    "\n",
    "Draw(x, y)"
   ]
  },
  {
   "cell_type": "code",
   "execution_count": null,
   "metadata": {},
   "outputs": [],
   "source": []
  }
 ],
 "metadata": {
  "kernelspec": {
   "display_name": "base",
   "language": "python",
   "name": "python3"
  },
  "language_info": {
   "codemirror_mode": {
    "name": "ipython",
    "version": 3
   },
   "file_extension": ".py",
   "mimetype": "text/x-python",
   "name": "python",
   "nbconvert_exporter": "python",
   "pygments_lexer": "ipython3",
   "version": "3.9.15"
  },
  "orig_nbformat": 4,
  "vscode": {
   "interpreter": {
    "hash": "1bacc43f3a5794ff21941cbe3bd67ad18cddb0ff963b4f1013ddec33c94b376d"
   }
  }
 },
 "nbformat": 4,
 "nbformat_minor": 2
}
